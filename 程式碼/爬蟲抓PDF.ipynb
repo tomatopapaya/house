{
 "cells": [
  {
   "cell_type": "code",
   "execution_count": 10,
   "id": "98ec263e",
   "metadata": {
    "collapsed": true
   },
   "outputs": [
    {
     "name": "stdout",
     "output_type": "stream",
     "text": [
      "Requirement already satisfied: camelot-py[base] in c:\\users\\asus\\anaconda3\\lib\\site-packages (0.10.1)\n",
      "Requirement already satisfied: pdfminer.six>=20200726 in c:\\users\\asus\\anaconda3\\lib\\site-packages (from camelot-py[base]) (20211012)\n",
      "Requirement already satisfied: openpyxl>=2.5.8 in c:\\users\\asus\\anaconda3\\lib\\site-packages (from camelot-py[base]) (3.0.7)\n",
      "Requirement already satisfied: chardet>=3.0.4 in c:\\users\\asus\\anaconda3\\lib\\site-packages (from camelot-py[base]) (4.0.0)\n",
      "Requirement already satisfied: PyPDF2>=1.26.0 in c:\\users\\asus\\anaconda3\\lib\\site-packages (from camelot-py[base]) (1.26.0)\n",
      "Requirement already satisfied: tabulate>=0.8.9 in c:\\users\\asus\\anaconda3\\lib\\site-packages (from camelot-py[base]) (0.8.9)\n",
      "Requirement already satisfied: numpy>=1.13.3 in c:\\users\\asus\\anaconda3\\lib\\site-packages (from camelot-py[base]) (1.20.1)\n",
      "Requirement already satisfied: pandas>=0.23.4 in c:\\users\\asus\\anaconda3\\lib\\site-packages (from camelot-py[base]) (1.2.4)\n",
      "Requirement already satisfied: click>=6.7 in c:\\users\\asus\\anaconda3\\lib\\site-packages (from camelot-py[base]) (7.1.2)\n",
      "Collecting pdftopng>=0.2.3\n",
      "  Downloading pdftopng-0.2.3-cp38-cp38-win_amd64.whl (1.5 MB)\n",
      "Collecting ghostscript>=0.7\n",
      "  Downloading ghostscript-0.7-py2.py3-none-any.whl (25 kB)\n",
      "Collecting opencv-python>=3.4.2.17\n",
      "  Downloading opencv_python-4.5.4.58-cp38-cp38-win_amd64.whl (35.1 MB)\n",
      "Requirement already satisfied: setuptools>=38.6.0 in c:\\users\\asus\\anaconda3\\lib\\site-packages (from ghostscript>=0.7->camelot-py[base]) (52.0.0.post20210125)\n",
      "Requirement already satisfied: et-xmlfile in c:\\users\\asus\\anaconda3\\lib\\site-packages (from openpyxl>=2.5.8->camelot-py[base]) (1.0.1)\n",
      "Requirement already satisfied: python-dateutil>=2.7.3 in c:\\users\\asus\\anaconda3\\lib\\site-packages (from pandas>=0.23.4->camelot-py[base]) (2.8.1)\n",
      "Requirement already satisfied: pytz>=2017.3 in c:\\users\\asus\\anaconda3\\lib\\site-packages (from pandas>=0.23.4->camelot-py[base]) (2021.1)\n",
      "Requirement already satisfied: cryptography in c:\\users\\asus\\anaconda3\\lib\\site-packages (from pdfminer.six>=20200726->camelot-py[base]) (3.4.7)\n",
      "Requirement already satisfied: six>=1.5 in c:\\users\\asus\\anaconda3\\lib\\site-packages (from python-dateutil>=2.7.3->pandas>=0.23.4->camelot-py[base]) (1.15.0)\n",
      "Requirement already satisfied: cffi>=1.12 in c:\\users\\asus\\anaconda3\\lib\\site-packages (from cryptography->pdfminer.six>=20200726->camelot-py[base]) (1.14.5)\n",
      "Requirement already satisfied: pycparser in c:\\users\\asus\\anaconda3\\lib\\site-packages (from cffi>=1.12->cryptography->pdfminer.six>=20200726->camelot-py[base]) (2.20)\n",
      "Installing collected packages: pdftopng, opencv-python, ghostscript\n",
      "Successfully installed ghostscript-0.7 opencv-python-4.5.4.58 pdftopng-0.2.3\n",
      "Note: you may need to restart the kernel to use updated packages.\n"
     ]
    }
   ],
   "source": [
    "pip install \"camelot-py[base]\""
   ]
  },
  {
   "cell_type": "code",
   "execution_count": 37,
   "id": "86242810",
   "metadata": {},
   "outputs": [],
   "source": [
    "import camelot"
   ]
  },
  {
   "cell_type": "code",
   "execution_count": 51,
   "id": "18cf723f",
   "metadata": {},
   "outputs": [],
   "source": [
    "tables = camelot.read_pdf('C://Users/ASUS//Desktop//我的專題報告//110年統計.pdf', pages = '2' , flavor = 'stream' )"
   ]
  },
  {
   "cell_type": "code",
   "execution_count": 52,
   "id": "e0d9e737",
   "metadata": {},
   "outputs": [
    {
     "name": "stdout",
     "output_type": "stream",
     "text": [
      "<TableList n=1>\n"
     ]
    }
   ],
   "source": [
    "print(tables)"
   ]
  },
  {
   "cell_type": "code",
   "execution_count": 53,
   "id": "3f8db00e",
   "metadata": {},
   "outputs": [
    {
     "name": "stdout",
     "output_type": "stream",
     "text": [
      "<Table shape=(25, 7)>\n"
     ]
    }
   ],
   "source": [
    "print(tables[0])"
   ]
  },
  {
   "cell_type": "code",
   "execution_count": 54,
   "id": "7d86f414",
   "metadata": {},
   "outputs": [
    {
     "name": "stdout",
     "output_type": "stream",
     "text": [
      "                             0      1           2      3      4      5  \\\n",
      "0   表 1  民國 110 年第 2 季房價負擔能力指標                                           \n",
      "1                               房貸負擔率  房貸負擔率(百分點)         房價所得比          \n",
      "2                           縣市                                           \n",
      "3                                 (%)        季變動值   年變動值    (倍)          \n",
      "4                           全國  36.27       -0.27   1.63   9.07  -0.06   \n",
      "5                          新北市  48.48       -0.53   2.44  12.13  -0.12   \n",
      "6                          臺北市  63.11        0.94   5.54  15.79   0.25   \n",
      "7                          桃園市  30.29        0.34   0.60   7.58   0.09   \n",
      "8                          臺中市  39.46       -1.17   1.05   9.87  -0.29   \n",
      "9                          臺南市  31.64        0.52   2.46   7.92   0.14   \n",
      "10                         高雄市  30.36       -0.04   1.28   7.60   0.00   \n",
      "11                         宜蘭縣  34.83       -0.23   1.86   8.71  -0.05   \n",
      "12                         新竹縣  33.00        1.51   0.81   8.26   0.39   \n",
      "13                         苗栗縣  31.73        0.55   2.86   7.94   0.15   \n",
      "14                         彰化縣  34.20        0.26  -0.45   8.56   0.08   \n",
      "15                         南投縣  34.57       -0.13   4.53   8.65  -0.02   \n",
      "16                         雲林縣  27.76        0.20  -1.85   6.95   0.06   \n",
      "17                         嘉義縣  22.30        1.21   0.80   5.58   0.31   \n",
      "18                         屏東縣  23.07        0.01   0.80   5.77   0.01   \n",
      "19                         臺東縣  31.76       -0.26   2.22   7.95  -0.05   \n",
      "20                         花蓮縣  33.96        0.39   2.84   8.50   0.11   \n",
      "21                        澎湖縣*  33.30       -3.80   5.38   8.33  -0.95   \n",
      "22                         基隆市  22.80       -0.06  -0.14   5.70  -0.02   \n",
      "23                         新竹市  29.66        0.97   2.61   7.42   0.25   \n",
      "24                         嘉義市  22.71       -0.03   3.18   5.68  -0.01   \n",
      "\n",
      "             6  \n",
      "0               \n",
      "1     房價所得比(倍)  \n",
      "2               \n",
      "3   季變動值  年變動值  \n",
      "4         0.41  \n",
      "5         0.62  \n",
      "6         1.40  \n",
      "7         0.16  \n",
      "8         0.27  \n",
      "9         0.63  \n",
      "10        0.33  \n",
      "11        0.47  \n",
      "12        0.21  \n",
      "13        0.72  \n",
      "14       -0.10  \n",
      "15        1.14  \n",
      "16       -0.45  \n",
      "17        0.21  \n",
      "18        0.20  \n",
      "19        0.57  \n",
      "20        0.72  \n",
      "21        1.35  \n",
      "22       -0.03  \n",
      "23        0.66  \n",
      "24        0.80  \n"
     ]
    }
   ],
   "source": [
    "print(tables[0].df)"
   ]
  },
  {
   "cell_type": "code",
   "execution_count": 55,
   "id": "f0d99011",
   "metadata": {},
   "outputs": [],
   "source": [
    "tables[0].to_csv('test.csv')"
   ]
  },
  {
   "cell_type": "code",
   "execution_count": null,
   "id": "beabeb42",
   "metadata": {},
   "outputs": [],
   "source": []
  },
  {
   "cell_type": "code",
   "execution_count": null,
   "id": "397e4c87",
   "metadata": {},
   "outputs": [],
   "source": []
  }
 ],
 "metadata": {
  "kernelspec": {
   "display_name": "Python 3",
   "language": "python",
   "name": "python3"
  },
  "language_info": {
   "codemirror_mode": {
    "name": "ipython",
    "version": 3
   },
   "file_extension": ".py",
   "mimetype": "text/x-python",
   "name": "python",
   "nbconvert_exporter": "python",
   "pygments_lexer": "ipython3",
   "version": "3.8.8"
  }
 },
 "nbformat": 4,
 "nbformat_minor": 5
}
